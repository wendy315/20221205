{
 "cells": [
  {
   "cell_type": "code",
   "execution_count": 1,
   "id": "5f4ac1bc-1453-4a4d-b416-84836076f9dc",
   "metadata": {},
   "outputs": [],
   "source": [
    "from sklearn.neural_network import MLPClassifier\n",
    "from sklearn.model_selection import train_test_split\n",
    "from sklearn import metrics\n",
    "import pandas as pd"
   ]
  },
  {
   "cell_type": "code",
   "execution_count": 2,
   "id": "d6ee1313-0942-4780-aacc-e26b3f637161",
   "metadata": {},
   "outputs": [
    {
     "data": {
      "text/html": [
       "<div>\n",
       "<style scoped>\n",
       "    .dataframe tbody tr th:only-of-type {\n",
       "        vertical-align: middle;\n",
       "    }\n",
       "\n",
       "    .dataframe tbody tr th {\n",
       "        vertical-align: top;\n",
       "    }\n",
       "\n",
       "    .dataframe thead th {\n",
       "        text-align: right;\n",
       "    }\n",
       "</style>\n",
       "<table border=\"1\" class=\"dataframe\">\n",
       "  <thead>\n",
       "    <tr style=\"text-align: right;\">\n",
       "      <th></th>\n",
       "      <th>sepal.length</th>\n",
       "      <th>sepal.width</th>\n",
       "      <th>petal.length</th>\n",
       "      <th>petal.width</th>\n",
       "      <th>variety</th>\n",
       "    </tr>\n",
       "  </thead>\n",
       "  <tbody>\n",
       "    <tr>\n",
       "      <th>7</th>\n",
       "      <td>5.0</td>\n",
       "      <td>3.4</td>\n",
       "      <td>1.5</td>\n",
       "      <td>0.2</td>\n",
       "      <td>Setosa</td>\n",
       "    </tr>\n",
       "    <tr>\n",
       "      <th>129</th>\n",
       "      <td>7.2</td>\n",
       "      <td>3.0</td>\n",
       "      <td>5.8</td>\n",
       "      <td>1.6</td>\n",
       "      <td>Virginica</td>\n",
       "    </tr>\n",
       "  </tbody>\n",
       "</table>\n",
       "</div>"
      ],
      "text/plain": [
       "     sepal.length  sepal.width  petal.length  petal.width    variety\n",
       "7             5.0          3.4           1.5          0.2     Setosa\n",
       "129           7.2          3.0           5.8          1.6  Virginica"
      ]
     },
     "execution_count": 2,
     "metadata": {},
     "output_type": "execute_result"
    }
   ],
   "source": [
    "data = pd.read_csv(\"iris.csv\")\n",
    "data.sample(n=2)"
   ]
  },
  {
   "cell_type": "code",
   "execution_count": 3,
   "id": "7a0dc1d9-4ac5-4a45-9830-511a4c64c34a",
   "metadata": {},
   "outputs": [
    {
     "data": {
      "text/html": [
       "<div>\n",
       "<style scoped>\n",
       "    .dataframe tbody tr th:only-of-type {\n",
       "        vertical-align: middle;\n",
       "    }\n",
       "\n",
       "    .dataframe tbody tr th {\n",
       "        vertical-align: top;\n",
       "    }\n",
       "\n",
       "    .dataframe thead th {\n",
       "        text-align: right;\n",
       "    }\n",
       "</style>\n",
       "<table border=\"1\" class=\"dataframe\">\n",
       "  <thead>\n",
       "    <tr style=\"text-align: right;\">\n",
       "      <th></th>\n",
       "      <th>sepal.length</th>\n",
       "      <th>sepal.width</th>\n",
       "      <th>petal.length</th>\n",
       "      <th>petal.width</th>\n",
       "    </tr>\n",
       "  </thead>\n",
       "  <tbody>\n",
       "    <tr>\n",
       "      <th>24</th>\n",
       "      <td>0.138889</td>\n",
       "      <td>0.583333</td>\n",
       "      <td>0.152542</td>\n",
       "      <td>0.041667</td>\n",
       "    </tr>\n",
       "    <tr>\n",
       "      <th>70</th>\n",
       "      <td>0.444444</td>\n",
       "      <td>0.500000</td>\n",
       "      <td>0.644068</td>\n",
       "      <td>0.708333</td>\n",
       "    </tr>\n",
       "  </tbody>\n",
       "</table>\n",
       "</div>"
      ],
      "text/plain": [
       "    sepal.length  sepal.width  petal.length  petal.width\n",
       "24      0.138889     0.583333      0.152542     0.041667\n",
       "70      0.444444     0.500000      0.644068     0.708333"
      ]
     },
     "execution_count": 3,
     "metadata": {},
     "output_type": "execute_result"
    }
   ],
   "source": [
    "df_norm = data[['sepal.length', 'sepal.width', 'petal.length', 'petal.width']].apply(lambda x: (x - x.min()) / (x.max() - x.min()))\n",
    "df_norm.sample(n=2)"
   ]
  },
  {
   "cell_type": "code",
   "execution_count": 4,
   "id": "be9216a8-d183-45ba-af50-baa9b0827228",
   "metadata": {},
   "outputs": [
    {
     "data": {
      "text/html": [
       "<div>\n",
       "<style scoped>\n",
       "    .dataframe tbody tr th:only-of-type {\n",
       "        vertical-align: middle;\n",
       "    }\n",
       "\n",
       "    .dataframe tbody tr th {\n",
       "        vertical-align: top;\n",
       "    }\n",
       "\n",
       "    .dataframe thead th {\n",
       "        text-align: right;\n",
       "    }\n",
       "</style>\n",
       "<table border=\"1\" class=\"dataframe\">\n",
       "  <thead>\n",
       "    <tr style=\"text-align: right;\">\n",
       "      <th></th>\n",
       "      <th>variety</th>\n",
       "    </tr>\n",
       "  </thead>\n",
       "  <tbody>\n",
       "    <tr>\n",
       "      <th>74</th>\n",
       "      <td>1</td>\n",
       "    </tr>\n",
       "    <tr>\n",
       "      <th>21</th>\n",
       "      <td>0</td>\n",
       "    </tr>\n",
       "    <tr>\n",
       "      <th>13</th>\n",
       "      <td>0</td>\n",
       "    </tr>\n",
       "    <tr>\n",
       "      <th>66</th>\n",
       "      <td>1</td>\n",
       "    </tr>\n",
       "    <tr>\n",
       "      <th>18</th>\n",
       "      <td>0</td>\n",
       "    </tr>\n",
       "  </tbody>\n",
       "</table>\n",
       "</div>"
      ],
      "text/plain": [
       "    variety\n",
       "74        1\n",
       "21        0\n",
       "13        0\n",
       "66        1\n",
       "18        0"
      ]
     },
     "execution_count": 4,
     "metadata": {},
     "output_type": "execute_result"
    }
   ],
   "source": [
    "target = data[['variety']].replace(['Setosa','Versicolor','Virginica'],[0,1,2])\n",
    "target.sample(n=5)"
   ]
  },
  {
   "cell_type": "code",
   "execution_count": 5,
   "id": "502da3b7-1a5a-4926-8fdf-7533d23022fa",
   "metadata": {},
   "outputs": [
    {
     "data": {
      "text/html": [
       "<div>\n",
       "<style scoped>\n",
       "    .dataframe tbody tr th:only-of-type {\n",
       "        vertical-align: middle;\n",
       "    }\n",
       "\n",
       "    .dataframe tbody tr th {\n",
       "        vertical-align: top;\n",
       "    }\n",
       "\n",
       "    .dataframe thead th {\n",
       "        text-align: right;\n",
       "    }\n",
       "</style>\n",
       "<table border=\"1\" class=\"dataframe\">\n",
       "  <thead>\n",
       "    <tr style=\"text-align: right;\">\n",
       "      <th></th>\n",
       "      <th>sepal.length</th>\n",
       "      <th>sepal.width</th>\n",
       "      <th>petal.length</th>\n",
       "      <th>petal.width</th>\n",
       "      <th>variety</th>\n",
       "    </tr>\n",
       "  </thead>\n",
       "  <tbody>\n",
       "    <tr>\n",
       "      <th>129</th>\n",
       "      <td>0.805556</td>\n",
       "      <td>0.416667</td>\n",
       "      <td>0.813559</td>\n",
       "      <td>0.625000</td>\n",
       "      <td>2</td>\n",
       "    </tr>\n",
       "    <tr>\n",
       "      <th>55</th>\n",
       "      <td>0.388889</td>\n",
       "      <td>0.333333</td>\n",
       "      <td>0.593220</td>\n",
       "      <td>0.500000</td>\n",
       "      <td>1</td>\n",
       "    </tr>\n",
       "    <tr>\n",
       "      <th>50</th>\n",
       "      <td>0.750000</td>\n",
       "      <td>0.500000</td>\n",
       "      <td>0.627119</td>\n",
       "      <td>0.541667</td>\n",
       "      <td>1</td>\n",
       "    </tr>\n",
       "    <tr>\n",
       "      <th>127</th>\n",
       "      <td>0.500000</td>\n",
       "      <td>0.416667</td>\n",
       "      <td>0.661017</td>\n",
       "      <td>0.708333</td>\n",
       "      <td>2</td>\n",
       "    </tr>\n",
       "    <tr>\n",
       "      <th>112</th>\n",
       "      <td>0.694444</td>\n",
       "      <td>0.416667</td>\n",
       "      <td>0.762712</td>\n",
       "      <td>0.833333</td>\n",
       "      <td>2</td>\n",
       "    </tr>\n",
       "  </tbody>\n",
       "</table>\n",
       "</div>"
      ],
      "text/plain": [
       "     sepal.length  sepal.width  petal.length  petal.width  variety\n",
       "129      0.805556     0.416667      0.813559     0.625000        2\n",
       "55       0.388889     0.333333      0.593220     0.500000        1\n",
       "50       0.750000     0.500000      0.627119     0.541667        1\n",
       "127      0.500000     0.416667      0.661017     0.708333        2\n",
       "112      0.694444     0.416667      0.762712     0.833333        2"
      ]
     },
     "execution_count": 5,
     "metadata": {},
     "output_type": "execute_result"
    }
   ],
   "source": [
    "df = pd.concat([df_norm, target], axis=1)\n",
    "df.sample(n=5)"
   ]
  },
  {
   "cell_type": "code",
   "execution_count": 6,
   "id": "bcbc0edd-e110-41fe-9496-a89f483d1a1c",
   "metadata": {},
   "outputs": [],
   "source": [
    "train,test=train_test_split(df, test_size=0.3)"
   ]
  },
  {
   "cell_type": "code",
   "execution_count": 7,
   "id": "f17f6469-3ce7-4bbf-ac9d-770c43deaeb5",
   "metadata": {},
   "outputs": [],
   "source": [
    "train_X=train[['sepal.length','sepal.width','petal.length','petal.width']]\n",
    "train_y=train.variety"
   ]
  },
  {
   "cell_type": "code",
   "execution_count": 8,
   "id": "6ca2fdcf-b040-4020-8638-bcfa7232d7d1",
   "metadata": {},
   "outputs": [],
   "source": [
    "test_X=test[['sepal.length','sepal.width','petal.length','petal.width']]\n",
    "test_y=test.variety"
   ]
  },
  {
   "cell_type": "code",
   "execution_count": 9,
   "id": "f4df8d8c-ab3e-48ca-bc54-c92c65be58f8",
   "metadata": {},
   "outputs": [],
   "source": [
    "#參數調整1 0.9777777777777777\n",
    "# clf=MLPClassifier(solver='lbfgs', alpha=1e-4, hidden_layer_sizes=(5,3), random_state=1,activation='identity')\n",
    "# clf.fit(train_X, train_y)"
   ]
  },
  {
   "cell_type": "code",
   "execution_count": 10,
   "id": "5d684504-421b-447f-adbc-edc98d7d5b67",
   "metadata": {},
   "outputs": [],
   "source": [
    "#參數調整2 0.9555555555555556\n",
    "# clf=MLPClassifier(solver='lbfgs', alpha=1e-4, hidden_layer_sizes=(5,5), random_state=1,activation='logistic')\n",
    "# clf=MLPClassifier(solver='lbfgs', alpha=1e-4, hidden_layer_sizes=(5,5), random_state=1,activation='tanh')\n",
    "#clf=MLPClassifier(solver='lbfgs', alpha=1e-4, hidden_layer_sizes=(5,5), random_state=1,activation='relu')\n",
    "# clf.fit(train_X, train_y)"
   ]
  },
  {
   "cell_type": "code",
   "execution_count": 11,
   "id": "95e5927b-65dd-4f58-acfe-22d82b44404b",
   "metadata": {},
   "outputs": [],
   "source": [
    "#參數調整3 \n",
    "#clf=MLPClassifier(solver='sgd', alpha=1e-4, hidden_layer_sizes=(5,3), random_state=1,activation='identity') #0.5777777777777777\n",
    "#clf=MLPClassifier(solver='sgd', alpha=1e-4, hidden_layer_sizes=(5,3), random_state=1,activation='logistic') #0.3333333333333333\n",
    "#clf=MLPClassifier(solver='sgd', alpha=1e-4, hidden_layer_sizes=(5,3), random_state=1,activation='tanh') #0.5777777777777777\n",
    "#clf=MLPClassifier(solver='sgd', alpha=1e-4, hidden_layer_sizes=(5,3), random_state=1,activation='relu') #0.4444444444444444\n",
    "#clf.fit(train_X, train_y)"
   ]
  },
  {
   "cell_type": "code",
   "execution_count": 12,
   "id": "771ec1be-873a-4e44-8676-908c9269b0c9",
   "metadata": {},
   "outputs": [],
   "source": [
    "#參數調整4 \n",
    "#clf=MLPClassifier(solver='adam', alpha=1e-4, hidden_layer_sizes=(5,3), random_state=1,activation='identity') # 0.5777777777777777\n",
    "#clf=MLPClassifier(solver='adam', alpha=1e-4, hidden_layer_sizes=(5,3), random_state=1,activation='logistic') # 0.5555555555555556\n",
    "#clf=MLPClassifier(solver='adam', alpha=1e-4, hidden_layer_sizes=(5,3), random_state=1,activation='tanh') # 0.6222222222222222\n",
    "#clf=MLPClassifier(solver='adam', alpha=1e-4, hidden_layer_sizes=(5,3), random_state=1,activation='relu') # 0.6888888888888889\n",
    "#clf.fit(train_X, train_y)"
   ]
  },
  {
   "cell_type": "code",
   "execution_count": 13,
   "id": "bfabbe69-2bd9-4667-b8f3-700912e35163",
   "metadata": {},
   "outputs": [],
   "source": [
    "#參數調整5 學習率 \n",
    "#clf=MLPClassifier(solver='adam', alpha=1e-4, hidden_layer_sizes=(5,3), random_state=1,activation='identity',learning_rate='constant') #  0.5333333333333333\n",
    "#clf=MLPClassifier(solver='adam', alpha=1e-4, hidden_layer_sizes=(5,3), random_state=1,activation='logistic',learning_rate='constant') # 0.3333333333333333\n",
    "#clf=MLPClassifier(solver='adam', alpha=1e-4, hidden_layer_sizes=(5,3), random_state=1,activation='tanh',learning_rate='constant') #0.6444444444444445\n",
    "#clf=MLPClassifier(solver='adam', alpha=1e-4, hidden_layer_sizes=(5,3), random_state=1,activation='relu',learning_rate='constant') #0.7333333333333333\n",
    "\n",
    "#clf=MLPClassifier(solver='adam', alpha=1e-4, hidden_layer_sizes=(5,3), random_state=1,activation='identity',learning_rate='invscaling') #  0.6666666666666666\n",
    "#clf=MLPClassifier(solver='adam', alpha=1e-4, hidden_layer_sizes=(5,3), random_state=1,activation='logistic',learning_rate='invscaling') # 0.28888888888888886\n",
    "#clf=MLPClassifier(solver='adam', alpha=1e-4, hidden_layer_sizes=(5,3), random_state=1,activation='tanh',learning_rate='invscaling') #0.5777777777777777\n",
    "#clf=MLPClassifier(solver='adam', alpha=1e-4, hidden_layer_sizes=(5,3), random_state=1,activation='relu',learning_rate='invscaling') #0.6\n",
    "\n",
    "#clf=MLPClassifier(solver='adam', alpha=1e-4, hidden_layer_sizes=(5,3), random_state=1,activation='identity',learning_rate='adaptive') #  0.5333333333333333\n",
    "#clf=MLPClassifier(solver='adam', alpha=1e-4, hidden_layer_sizes=(5,3), random_state=1,activation='logistic',learning_rate='adaptive') # 0.26666666666666666\n",
    "#clf=MLPClassifier(solver='adam', alpha=1e-4, hidden_layer_sizes=(5,3), random_state=1,activation='tanh',learning_rate='adaptive') #0.6222222222222222\n",
    "#clf=MLPClassifier(solver='adam', alpha=1e-4, hidden_layer_sizes=(5,3), random_state=1,activation='relu',learning_rate='adaptive') #0.5777777777777777\n",
    "#clf.fit(train_X, train_y)"
   ]
  },
  {
   "cell_type": "code",
   "execution_count": 14,
   "id": "c292c8ed-b4a7-4f84-bc53-50d940357510",
   "metadata": {},
   "outputs": [
    {
     "name": "stderr",
     "output_type": "stream",
     "text": [
      "C:\\Users\\user\\anaconda3\\lib\\site-packages\\sklearn\\neural_network\\_multilayer_perceptron.py:692: ConvergenceWarning: Stochastic Optimizer: Maximum iterations (200) reached and the optimization hasn't converged yet.\n",
      "  warnings.warn(\n"
     ]
    },
    {
     "data": {
      "text/plain": [
       "MLPClassifier(hidden_layer_sizes=(5, 3), random_state=1)"
      ]
     },
     "execution_count": 14,
     "metadata": {},
     "output_type": "execute_result"
    }
   ],
   "source": [
    "clf=MLPClassifier(solver='adam', alpha=1e-4, hidden_layer_sizes=(5,3), random_state=1,activation='relu',learning_rate='constant') #0.7333333333333333\n",
    "clf.fit(train_X, train_y)"
   ]
  },
  {
   "cell_type": "code",
   "execution_count": 15,
   "id": "2105371d-e695-4f39-888b-e8c64c1575fe",
   "metadata": {},
   "outputs": [
    {
     "name": "stdout",
     "output_type": "stream",
     "text": [
      "[0 2 2 0 0 2 2 2 0 2 0 2 0 2 2 0 0 0 0 2 2 2 2 2 2 2 0 0 0 2 0 0 2 0 2 2 2\n",
      " 2 0 2 0 0 0 0 2]\n"
     ]
    }
   ],
   "source": [
    "prediction = clf.predict(test_X)\n",
    "print(prediction)"
   ]
  },
  {
   "cell_type": "code",
   "execution_count": 16,
   "id": "97997adf-a0ed-4506-ae6f-007d8670cf60",
   "metadata": {},
   "outputs": [
    {
     "name": "stdout",
     "output_type": "stream",
     "text": [
      "[0 2 1 0 1 2 2 1 1 2 2 1 1 2 2 1 0 0 0 2 2 2 2 1 2 1 0 0 0 2 0 0 2 1 2 2 2\n",
      " 2 1 2 0 0 0 1 2]\n"
     ]
    }
   ],
   "source": [
    "print(test_y.values)"
   ]
  },
  {
   "cell_type": "code",
   "execution_count": 17,
   "id": "6e109dc9-be40-498d-a76c-f485b3f6b6da",
   "metadata": {},
   "outputs": [
    {
     "name": "stdout",
     "output_type": "stream",
     "text": [
      "The accuracy of the Multi-layer Perceptron is: 0.7111111111111111\n"
     ]
    }
   ],
   "source": [
    "print('The accuracy of the Multi-layer Perceptron is:',metrics.accuracy_score(prediction,test_y))"
   ]
  }
 ],
 "metadata": {
  "kernelspec": {
   "display_name": "Python 3 (ipykernel)",
   "language": "python",
   "name": "python3"
  },
  "language_info": {
   "codemirror_mode": {
    "name": "ipython",
    "version": 3
   },
   "file_extension": ".py",
   "mimetype": "text/x-python",
   "name": "python",
   "nbconvert_exporter": "python",
   "pygments_lexer": "ipython3",
   "version": "3.9.12"
  }
 },
 "nbformat": 4,
 "nbformat_minor": 5
}
